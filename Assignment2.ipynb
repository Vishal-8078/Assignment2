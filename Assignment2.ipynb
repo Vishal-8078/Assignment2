{
  "nbformat": 4,
  "nbformat_minor": 0,
  "metadata": {
    "colab": {
      "provenance": []
    },
    "kernelspec": {
      "name": "python3",
      "display_name": "Python 3"
    },
    "language_info": {
      "name": "python"
    }
  },
  "cells": [
    {
      "cell_type": "markdown",
      "source": [
        "Question-*1* // SECRET NUMBER"
      ],
      "metadata": {
        "id": "L0BompwtZ_no"
      }
    },
    {
      "cell_type": "code",
      "execution_count": 2,
      "metadata": {
        "colab": {
          "base_uri": "https://localhost:8080/"
        },
        "id": "ZFFumT4zZ7-C",
        "outputId": "f1c91b71-1bb7-4c79-92e9-f0e948044ad7"
      },
      "outputs": [
        {
          "output_type": "stream",
          "name": "stdout",
          "text": [
            "Enter a number between 1 and 10: 6\n",
            "Too low! Try again.\n",
            "Enter a number between 1 and 10: 7\n",
            "Too low! Try again.\n",
            "Enter a number between 1 and 10: 8\n",
            "Too low! Try again.\n",
            "Enter a number between 1 and 10: 9\n",
            "Too low! Try again.\n",
            "Enter a number between 1 and 10: 0\n",
            "Too low! Try again.\n",
            "Enter a number between 1 and 10: 10\n",
            "Congratulations! You guessed the number correctly!\n"
          ]
        }
      ],
      "source": [
        "import random\n",
        "secretNumber = random.randint(1, 10)\n",
        "while True:\n",
        "    guess = int(input(\"Enter a number between 1 and 10: \"))\n",
        "\n",
        "    if guess == secretNumber:\n",
        "        print(\"Congratulations! You guessed the number correctly!\")\n",
        "        break\n",
        "    elif guess > secretNumber:\n",
        "        print(\"Too high! Try again.\")\n",
        "    elif guess < secretNumber:\n",
        "        print(\"Too low! Try again.\")\n"
      ]
    },
    {
      "cell_type": "markdown",
      "source": [
        "Question-2 // FACTORIAL OF A NUMBER"
      ],
      "metadata": {
        "id": "3QnCMp9_bjen"
      }
    },
    {
      "cell_type": "code",
      "source": [
        "num = int(input(\"Enter a positive integer: \"))\n",
        "if num < 0:\n",
        "    print(\"Invalid input. Please enter a positive integer.\")\n",
        "else:\n",
        "    factorial = 1\n",
        "\n",
        "    # Calculate the factorial\n",
        "    for i in range(1, num + 1):\n",
        "        factorial *= i\n",
        "\n",
        "    print(\"The factorial of\", num, \"is\", factorial)\n"
      ],
      "metadata": {
        "colab": {
          "base_uri": "https://localhost:8080/"
        },
        "id": "JIvJ6eeZcwll",
        "outputId": "992ca599-049f-46d2-fd0e-4b439f6e0eab"
      },
      "execution_count": 4,
      "outputs": [
        {
          "output_type": "stream",
          "name": "stdout",
          "text": [
            "Enter a positive integer: 5\n",
            "The factorial of 5 is 120\n"
          ]
        }
      ]
    },
    {
      "cell_type": "markdown",
      "source": [
        "Question-3 // PROFILE PIC ON FACEBOOK"
      ],
      "metadata": {
        "id": "bY45S6kabmGW"
      }
    },
    {
      "cell_type": "code",
      "source": [
        "L = int(input(\"Enter the dimension of the picture: \"))\n",
        "N = int(input(\"Enter the number of photos: \"))\n",
        "\n",
        "for i in range(N):\n",
        "    W = int(input(\"Enter width of the photo: \"))\n",
        "    H = int(input(\"Enter height of the photo: \"))\n",
        "\n",
        "    if W < L or H < L:\n",
        "        print(\"UPLOAD ANOTHER\")\n",
        "    elif W == H:\n",
        "        print(\"ACCEPTED\")\n",
        "    else:\n",
        "        print(\"CROP IT\")\n"
      ],
      "metadata": {
        "colab": {
          "base_uri": "https://localhost:8080/"
        },
        "id": "bRoqHpL8dMpi",
        "outputId": "09658b53-a1a7-41e7-a66b-dda66b0dc62d"
      },
      "execution_count": 6,
      "outputs": [
        {
          "output_type": "stream",
          "name": "stdout",
          "text": [
            "Enter the minimum dimension of the picture (L): 4\n",
            "Enter the number of photos: 2\n",
            "Enter the width of the photo: 2\n",
            "Enter the height of the photo: 2\n",
            "UPLOAD ANOTHER\n",
            "Enter the width of the photo: 8\n",
            "Enter the height of the photo: 9\n",
            "CROP IT\n"
          ]
        }
      ]
    }
  ]
}